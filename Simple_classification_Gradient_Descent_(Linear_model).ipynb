{
  "nbformat": 4,
  "nbformat_minor": 0,
  "metadata": {
    "colab": {
      "name": "Simple classification Gradient Descent (Linear model).ipynb",
      "provenance": [],
      "collapsed_sections": [],
      "include_colab_link": true
    },
    "kernelspec": {
      "name": "python3",
      "display_name": "Python 3"
    }
  },
  "cells": [
    {
      "cell_type": "markdown",
      "metadata": {
        "id": "view-in-github",
        "colab_type": "text"
      },
      "source": [
        "<a href=\"https://colab.research.google.com/github/nrhodes/cs152fa2019/blob/master/Simple_classification_Gradient_Descent_(Linear_model).ipynb\" target=\"_parent\"><img src=\"https://colab.research.google.com/assets/colab-badge.svg\" alt=\"Open In Colab\"/></a>"
      ]
    },
    {
      "cell_type": "code",
      "metadata": {
        "id": "vFY-6yxl5ktk",
        "colab_type": "code",
        "colab": {}
      },
      "source": [
        "%matplotlib inline"
      ],
      "execution_count": 0,
      "outputs": []
    },
    {
      "cell_type": "code",
      "metadata": {
        "colab_type": "code",
        "id": "LelSaTgh8pZ7",
        "colab": {}
      },
      "source": [
        "import matplotlib.pyplot as plt\n",
        "import matplotlib.animation as animation\n",
        "from IPython.display import HTML\n",
        "import math\n",
        "import numpy as np\n",
        "from tqdm import tqdm\n",
        "\n",
        "DEBUG=False"
      ],
      "execution_count": 0,
      "outputs": []
    },
    {
      "cell_type": "code",
      "metadata": {
        "id": "89EkQHoF_kev",
        "colab_type": "code",
        "colab": {}
      },
      "source": [
        "def sigmoid(x):\n",
        "  return 1/(1+math.exp(-x))\n",
        "  \n",
        "def f(pt):\n",
        "  return (pt[1] - (a0 + a1 * pt[0]))/math.sqrt(1 + a1**2)"
      ],
      "execution_count": 0,
      "outputs": []
    },
    {
      "cell_type": "code",
      "metadata": {
        "id": "LEtm49bM5K8k",
        "colab_type": "code",
        "outputId": "b902edae-15cf-4de4-ce6d-5cafa86d1e30",
        "colab": {
          "base_uri": "https://localhost:8080/",
          "height": 269
        }
      },
      "source": [
        "# First set up the figure, the axis, and the plot element we want to animate\n",
        "fig, ax = plt.subplots()\n",
        "\n",
        "ax.set_xlim(( 0, 10))\n",
        "ax.set_ylim((0, 10))\n",
        "\n",
        "xs = [(1, 5), (2, 4), (3, 8), (4, 5), (5, 5)]\n",
        "ys = [1, 0, 1, 0, 0]\n",
        "\n",
        "# params\n",
        "a0 = 0\n",
        "a1 = 0\n",
        "\n",
        "\n",
        "# hyper-params\n",
        "𝜆 = .15\n",
        "num_epochs=15000\n",
        "\n",
        "xpositives = [x for x, y in zip(xs, ys) if y == 1]\n",
        "xnegatives = [x for x, y in zip(xs, ys) if y == 0]\n",
        "line, = ax.plot([0, 5], [a0, a1*5 + a0], c='red')\n",
        "scatter = ax.scatter([x[0] for x in xpositives], [x[1] for x in xpositives], c='blue', marker='o')\n",
        "scatter = ax.scatter([x[0] for x in xnegatives], [x[1] for x in xnegatives], c='green', marker='^')\n",
        "\n",
        "loss_text = ax.text(0.02, 0.90, '', transform=ax.transAxes)\n",
        "weights_text = ax.text(0.02, .82, '', transform=ax.transAxes)\n",
        "\n",
        "plt.show()"
      ],
      "execution_count": 42,
      "outputs": [
        {
          "output_type": "display_data",
          "data": {
            "image/png": "[encoded data removed]",
            "text/plain": [
              "<Figure size 432x288 with 1 Axes>"
            ]
          },
          "metadata": {
            "tags": []
          }
        }
      ]
    },
    {
      "cell_type": "code",
      "metadata": {
        "id": "r1oN9z4HD4hw",
        "colab_type": "code",
        "colab": {}
      },
      "source": [
        "def crossentropy_loss(ŷ, y):\n",
        "  result = -y*math.log(ŷ) -(1-y)*math.log(1-ŷ)\n",
        "  if DEBUG:\n",
        "    print(\"crossentropy_loss: y\", y)\n",
        "    print(\"crossentropy_loss: ŷ\", ŷ)\n",
        "    print(\"crossentropy_loss result: \", result)\n",
        "  return result\n",
        "\n",
        "def losses():\n",
        "  cross_entropies = [crossentropy_loss(sigmoid(f(x)), y) for (x, y) in zip(xs, ys)]\n",
        "  if DEBUG:\n",
        "    print('xs', xs)\n",
        "    print('ys', ys)\n",
        "    print('f(x)', [f(x) for x in xs])\n",
        "    print('cross_entropies', cross_entropies)\n",
        "  return cross_entropies\n",
        "\n",
        "def loss():\n",
        "  return sum(losses()) / len(xs) "
      ],
      "execution_count": 0,
      "outputs": []
    },
    {
      "cell_type": "code",
      "metadata": {
        "id": "59T-l4E8CqNZ",
        "colab_type": "code",
        "colab": {}
      },
      "source": [
        "# https://www.wolframalpha.com/input/?i=differentiate+%28m*x%2Bb+-y%29%2Fsqrt%281%2Bm%5E2%29+wrt+m\n",
        "# With respect to a_1\n",
        "def dFdA1(pt):\n",
        "  return -(-a0*a1 + a1*pt[1] + pt[0])/math.pow(1+a1**2, 1.5)\n",
        "  \n",
        "def gradient_descent():\n",
        "  global a0, a1\n",
        "  dLdFs = [sigmoid(f(x))-y for (x, y) in zip(xs, ys)];\n",
        "  # https://www.wolframalpha.com/input/?i=differentiate+%28m*x%2Bb+-y%29%2Fsqrt%281%2Bm%5E2%29+wrt+b\n",
        "  dFdA0 = -1/(math.sqrt(1+a1**2))\n",
        "  \n",
        "  gradient_a0s = [dLdF * dFdA0 for (dLdF, pt) in zip(dLdFs, xs)]\n",
        "  gradient_a1s = [dLdF * dFdA1(pt) for (dLdF, pt) in zip(dLdFs, xs)]\n",
        "\n",
        "  gradient_a0 = sum(gradient_a0s) / len(xs)\n",
        "  gradient_a1 = sum(gradient_a1s) / len(xs)\n",
        "\n",
        "  if DEBUG:\n",
        "    print(\"gradient-descent dLdFs\", dLdFs)\n",
        "    print(\"gradient-descent gradient_a0s\", gradient_a0s)\n",
        "    print(\"gradient-descent gradient_a1s\", gradient_a1s)\n",
        "    epsilon = 0.0001\n",
        "    losses = [crossentropy_loss(sigmoid(f(x)), y) for (x, y) in zip(xs, ys)]\n",
        "    old_a0 = a0\n",
        "    a0 = a0 + epsilon\n",
        "    lossesEpsilon = [crossentropy_loss(sigmoid(f(x)), y) for (x, y) in zip(xs, ys)]\n",
        "    a0 = old_a0\n",
        "\n",
        "    numericdLdA0 = [(lossEpsilon - loss)/epsilon for loss, lossEpsilon in zip(losses, lossesEpsilon)]\n",
        "    print(\"losses\", losses)\n",
        "    print(\"lossesEpsilon\", lossesEpsilon)\n",
        "    print(\"gradient-descent numericdLdA0\", numericdLdA0)\n",
        "\n",
        "    old_a1 = a1\n",
        "    a1 = a1 + epsilon\n",
        "    lossesEpsilon = [crossentropy_loss(sigmoid(f(x)), y) for (x, y) in zip(xs, ys)]\n",
        "    a1 = old_a1\n",
        "\n",
        "    numericdLdA1 = [(lossEpsilon - loss)/epsilon for loss, lossEpsilon in zip(losses, lossesEpsilon)]\n",
        "    print(\"gradient-descent numericdLdA1\", numericdLdA1)\n",
        "\n",
        "    #losses = [crossentropy_loss(sigmoid(f(x)), y) for (x, y) in zip(xs, ys)]\n",
        "    #lossesEpsilon = [crossentropy_loss(sigmoid(f(x) + epsilon), y) for (x, y) in zip(xs, ys)]\n",
        "    #print(\"losses\", losses)\n",
        "    #print(\"lossesEpsilon\", lossesEpsilon)\n",
        "    #numericdLdFs = [(lossEpsilon - loss)/epsilon for loss, lossEpsilon in zip(losses, lossesEpsilon)]\n",
        "    #print(\"gradient-descent numericdLdFs\", numericdLdFs)\n",
        "\n",
        "  a0 -= 𝜆*gradient_a0\n",
        "  a1 -= 𝜆*gradient_a1\n"
      ],
      "execution_count": 0,
      "outputs": []
    },
    {
      "cell_type": "code",
      "metadata": {
        "id": "j8vXW1wQZvvz",
        "colab_type": "code",
        "colab": {
          "base_uri": "https://localhost:8080/",
          "height": 35
        },
        "outputId": "8b1d819e-31d7-469b-b2de-d7c81854d4f5"
      },
      "source": [
        "a0 = 0\n",
        "a1 = 0\n",
        "for i in tqdm(range(num_epochs)):\n",
        "  gradient_descent()"
      ],
      "execution_count": 45,
      "outputs": [
        {
          "output_type": "stream",
          "text": [
            "100%|██████████| 15000/15000 [00:00<00:00, 101746.69it/s]\n"
          ],
          "name": "stderr"
        }
      ]
    },
    {
      "cell_type": "code",
      "metadata": {
        "id": "wcycqivYrOBp",
        "colab_type": "code",
        "colab": {
          "base_uri": "https://localhost:8080/",
          "height": 269
        },
        "outputId": "144a8f08-2a0e-4541-bd43-172652e92602"
      },
      "source": [
        "fig, ax = plt.subplots()\n",
        "\n",
        "ax.set_xlim(( 0, 10))\n",
        "ax.set_ylim((0, 10))\n",
        "\n",
        "xs = [(1, 5), (2, 4), (3, 8), (4, 5), (5, 5)]\n",
        "ys = [0, 1, 0, 1, 1]\n",
        "\n",
        "\n",
        "xpositives = [x for x, y in zip(xs, ys) if y == 1]\n",
        "xnegatives = [x for x, y in zip(xs, ys) if y == 0]\n",
        "line, = ax.plot([0, 5], [a0, a1*5 + a0], c='red')\n",
        "scatter = ax.scatter([x[0] for x in xpositives], [x[1] for x in xpositives], c='blue', marker='o')\n",
        "scatter = ax.scatter([x[0] for x in xnegatives], [x[1] for x in xnegatives], c='green', marker='^')\n",
        "plt.show()"
      ],
      "execution_count": 46,
      "outputs": [
        {
          "output_type": "display_data",
          "data": {
            "image/png": "[encoded data removed]",
            "text/plain": [
              "<Figure size 432x288 with 1 Axes>"
            ]
          },
          "metadata": {
            "tags": []
          }
        }
      ]
    },
    {
      "cell_type": "code",
      "metadata": {
        "id": "kJmlKYK9rPMd",
        "colab_type": "code",
        "colab": {}
      },
      "source": [
        ""
      ],
      "execution_count": 0,
      "outputs": []
    }
  ]
}